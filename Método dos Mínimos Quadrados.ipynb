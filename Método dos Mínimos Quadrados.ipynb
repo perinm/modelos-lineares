{
 "cells": [
  {
   "cell_type": "code",
   "execution_count": 1,
   "metadata": {},
   "outputs": [],
   "source": [
    "import math\n",
    "import numpy as np\n",
    "import time\n",
    "import tensorflow as tf\n",
    "import random\n",
    "#import unittestfrom mycode import *"
   ]
  },
  {
   "cell_type": "code",
   "execution_count": 2,
   "metadata": {},
   "outputs": [],
   "source": [
    "class MMQ():\n",
    "    \n",
    "#     def __init__(self, x, y):\n",
    "#         self.x = np.array(x)\n",
    "#         self.y = np.array(y)\n",
    "#         self.n = x.shape[0]\n",
    "    \n",
    "    def fit(self,x,y):\n",
    "        \"\"\"\n",
    "        x and y must be lists or tuples\n",
    "        this function calculates values a and b for linear model\n",
    "        \"\"\"\n",
    "        x = np.array(x)\n",
    "        y = np.array(y)\n",
    "        n = x.shape[0]\n",
    "        q1 = np.sum(x*y)\n",
    "        q2 = (1/n)*np.sum(y)*np.sum(x)\n",
    "        q3 = np.sum(x**2)\n",
    "        q4 = (1/n)*np.sum(x)**2\n",
    "        self.a = (q1-q2)/(q3-q4)\n",
    "        self.b = (1/n)*np.sum(y) - (self.a/n)*np.sum(x)\n",
    "        print(\"O valor de a é:\",self.a)\n",
    "        print(\"O valor de b é:\",self.b)\n",
    "        print(self)\n",
    "    \n",
    "    def predict(self,x1):\n",
    "        x1 = np.array(x1)\n",
    "        y1 = self.a*x1+self.b\n",
    "        return y1\n",
    "    \n",
    "    def mostra_funcao(self):\n",
    "        print(self)\n",
    "    \n",
    "    def __str__(self):\n",
    "        return (\"função: y = %.2f*x + %.2f\" % (self.a,self.b))\n",
    "\n",
    "n=9999999\n",
    "x1 = []\n",
    "#random.sample(range(1,100),99)\n",
    "y1 = []\n",
    "#random.sample(range(1,100),99)\n",
    "for i in range(n):\n",
    "    x1.append(random.randint(1,10))\n",
    "    y1.append(random.randint(1,10))"
   ]
  },
  {
   "cell_type": "code",
   "execution_count": 3,
   "metadata": {},
   "outputs": [
    {
     "name": "stdout",
     "output_type": "stream",
     "text": [
      "O valor de a é: 5.0928036742722184e-05\n",
      "O valor de b é: 5.499334547788862\n",
      "função: y = 0.00*x + 5.50\n",
      "Tempo total: 1.25618\n"
     ]
    }
   ],
   "source": [
    "start = time.time()\n",
    "a = MMQ()\n",
    "a.fit(x1,y1)\n",
    "end = time.time()\n",
    "print(f\"Tempo total: {end - start:.5f}\")"
   ]
  },
  {
   "cell_type": "code",
   "execution_count": 4,
   "metadata": {},
   "outputs": [
    {
     "data": {
      "text/plain": [
       "array([5.49938548, 5.4994364 , 5.49948733, 5.49953826])"
      ]
     },
     "execution_count": 4,
     "metadata": {},
     "output_type": "execute_result"
    }
   ],
   "source": [
    "a.predict([1,2,3,4])"
   ]
  },
  {
   "cell_type": "markdown",
   "metadata": {},
   "source": [
    "## Tensorflow"
   ]
  },
  {
   "cell_type": "code",
   "execution_count": 5,
   "metadata": {},
   "outputs": [
    {
     "name": "stdout",
     "output_type": "stream",
     "text": [
      "5.0928036742722184e-05\n",
      "Tempo total: 10.60350\n"
     ]
    }
   ],
   "source": [
    "start = time.time()\n",
    "\n",
    "with tf.compat.v1.Session() as ses:\n",
    "    writer = tf.compat.v1.summary.FileWriter('logs', ses.graph)\n",
    "    \n",
    "    x = tf.constant(x1, shape=(len(x1),1) , dtype=\"float64\", name=\"x\")\n",
    "    y = tf.constant(y1, shape=(len(x1),1) , dtype=\"float64\", name=\"y\")\n",
    "    n = tf.size(x, name=\"n\")\n",
    "    q1 = tf.reduce_sum(tf.multiply(x,y), name=\"q1\")\n",
    "    n1 = tf.truediv(1,n,name=\"n1\")\n",
    "    soma_x = tf.reduce_sum(x,name=\"soma_x\")\n",
    "    soma_y = tf.reduce_sum(y, name= \"soma_y\")\n",
    "    q2 = tf.multiply(soma_x,soma_y, name=\"q2\")\n",
    "    q2_media = tf.multiply(q2,n1, name=\"q2_media\")\n",
    "    q3 = tf.reduce_sum(tf.multiply(x,x),name=\"q3\")\n",
    "    q4 = tf.multiply(tf.multiply(soma_x,soma_x),n1,name=\"q4\")\n",
    "    fim = tf.truediv(tf.subtract(q1,q2_media),tf.subtract(q3,q4),name=\"fim\")\n",
    "    \n",
    "    print(ses.run(fim))\n",
    "\n",
    "end = time.time()\n",
    "print(f\"Tempo total: {end - start:.5f}\")\n",
    "#print(tf.compat.v1.get_default_graph().as_graph_def())"
   ]
  },
  {
   "cell_type": "code",
   "execution_count": 6,
   "metadata": {},
   "outputs": [
    {
     "ename": "NameError",
     "evalue": "name 'unittest' is not defined",
     "output_type": "error",
     "traceback": [
      "\u001b[0;31m---------------------------------------------------------------------------\u001b[0m",
      "\u001b[0;31mNameError\u001b[0m                                 Traceback (most recent call last)",
      "\u001b[0;32m<ipython-input-6-8cee7a5dd563>\u001b[0m in \u001b[0;36m<module>\u001b[0;34m\u001b[0m\n\u001b[0;32m----> 1\u001b[0;31m \u001b[0;32mclass\u001b[0m \u001b[0mMyFirstTests\u001b[0m\u001b[0;34m(\u001b[0m\u001b[0munittest\u001b[0m\u001b[0;34m.\u001b[0m\u001b[0mTestCase\u001b[0m\u001b[0;34m)\u001b[0m\u001b[0;34m:\u001b[0m\u001b[0;34m\u001b[0m\u001b[0;34m\u001b[0m\u001b[0m\n\u001b[0m\u001b[1;32m      2\u001b[0m \u001b[0;34m\u001b[0m\u001b[0m\n\u001b[1;32m      3\u001b[0m     \u001b[0;32mdef\u001b[0m \u001b[0mtest_hello\u001b[0m\u001b[0;34m(\u001b[0m\u001b[0mself\u001b[0m\u001b[0;34m)\u001b[0m\u001b[0;34m:\u001b[0m\u001b[0;34m\u001b[0m\u001b[0;34m\u001b[0m\u001b[0m\n\u001b[1;32m      4\u001b[0m         \u001b[0mself\u001b[0m\u001b[0;34m.\u001b[0m\u001b[0massertEqual\u001b[0m\u001b[0;34m(\u001b[0m\u001b[0mhello_world\u001b[0m\u001b[0;34m(\u001b[0m\u001b[0;34m)\u001b[0m\u001b[0;34m,\u001b[0m \u001b[0;34m'hello world'\u001b[0m\u001b[0;34m)\u001b[0m\u001b[0;34m\u001b[0m\u001b[0;34m\u001b[0m\u001b[0m\n\u001b[1;32m      5\u001b[0m \u001b[0;34m\u001b[0m\u001b[0m\n",
      "\u001b[0;31mNameError\u001b[0m: name 'unittest' is not defined"
     ]
    }
   ],
   "source": [
    "class MyFirstTests(unittest.TestCase):\n",
    "    \n",
    "    def test_hello(self):\n",
    "        self.assertEqual(hello_world(), 'hello world')\n",
    "    \n",
    "    "
   ]
  }
 ],
 "metadata": {
  "kernelspec": {
   "display_name": "Python 3",
   "language": "python",
   "name": "python3"
  },
  "language_info": {
   "codemirror_mode": {
    "name": "ipython",
    "version": 3
   },
   "file_extension": ".py",
   "mimetype": "text/x-python",
   "name": "python",
   "nbconvert_exporter": "python",
   "pygments_lexer": "ipython3",
   "version": "3.8.3"
  }
 },
 "nbformat": 4,
 "nbformat_minor": 4
}
